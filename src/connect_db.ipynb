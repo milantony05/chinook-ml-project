{
 "cells": [
  {
   "cell_type": "markdown",
   "id": "718fd95b",
   "metadata": {},
   "source": [
    "# Database Connection Setup\n",
    "Setup and test connection to Chinook PostgreSQL database."
   ]
  },
  {
   "cell_type": "markdown",
   "id": "61a1c054",
   "metadata": {},
   "source": [
    "## 1. Install Required Packages"
   ]
  },
  {
   "cell_type": "code",
   "execution_count": 1,
   "id": "6851e1d8",
   "metadata": {},
   "outputs": [
    {
     "name": "stdout",
     "output_type": "stream",
     "text": [
      "Requirement already satisfied: pandas in c:\\users\\milan\\desktop\\chinook\\myenv\\lib\\site-packages (2.3.0)\n",
      "Requirement already satisfied: sqlalchemy in c:\\users\\milan\\desktop\\chinook\\myenv\\lib\\site-packages (2.0.41)\n",
      "Requirement already satisfied: psycopg2-binary in c:\\users\\milan\\desktop\\chinook\\myenv\\lib\\site-packages (2.9.10)\n",
      "Requirement already satisfied: numpy>=1.26.0 in c:\\users\\milan\\desktop\\chinook\\myenv\\lib\\site-packages (from pandas) (2.3.1)\n",
      "Requirement already satisfied: python-dateutil>=2.8.2 in c:\\users\\milan\\desktop\\chinook\\myenv\\lib\\site-packages (from pandas) (2.9.0.post0)\n",
      "Requirement already satisfied: pytz>=2020.1 in c:\\users\\milan\\desktop\\chinook\\myenv\\lib\\site-packages (from pandas) (2025.2)\n",
      "Requirement already satisfied: tzdata>=2022.7 in c:\\users\\milan\\desktop\\chinook\\myenv\\lib\\site-packages (from pandas) (2025.2)\n",
      "Requirement already satisfied: greenlet>=1 in c:\\users\\milan\\desktop\\chinook\\myenv\\lib\\site-packages (from sqlalchemy) (3.2.3)\n",
      "Requirement already satisfied: typing-extensions>=4.6.0 in c:\\users\\milan\\desktop\\chinook\\myenv\\lib\\site-packages (from sqlalchemy) (4.14.0)\n",
      "Requirement already satisfied: six>=1.5 in c:\\users\\milan\\desktop\\chinook\\myenv\\lib\\site-packages (from python-dateutil>=2.8.2->pandas) (1.17.0)\n",
      "Note: you may need to restart the kernel to use updated packages.\n"
     ]
    }
   ],
   "source": [
    "%pip install pandas sqlalchemy psycopg2-binary"
   ]
  },
  {
   "cell_type": "markdown",
   "id": "7d7651ef",
   "metadata": {},
   "source": [
    "## 2. Setup Database Connection"
   ]
  },
  {
   "cell_type": "code",
   "execution_count": 2,
   "id": "1369258e",
   "metadata": {},
   "outputs": [
    {
     "name": "stdout",
     "output_type": "stream",
     "text": [
      "Successfully connected to the database!\n"
     ]
    }
   ],
   "source": [
    "import pandas as pd\n",
    "from sqlalchemy import create_engine\n",
    "\n",
    "# Database configuration\n",
    "PG_HOST = 'localhost'\n",
    "PG_PORT = 5432\n",
    "PG_USER = 'postgres'\n",
    "PG_PASSWORD = 'pass1234'\n",
    "PG_DB = 'chinook'\n",
    "\n",
    "# Create SQLAlchemy engine\n",
    "engine = create_engine(f'postgresql+psycopg2://{PG_USER}:{PG_PASSWORD}@{PG_HOST}:{PG_PORT}/{PG_DB}')\n",
    "\n",
    "# Test connection\n",
    "try:\n",
    "    with engine.connect() as conn:\n",
    "        print(\"Successfully connected to the database!\")\n",
    "except Exception as e:\n",
    "    print(f\"Error connecting to database: {str(e)}\")"
   ]
  },
  {
   "cell_type": "markdown",
   "id": "5c40423b",
   "metadata": {},
   "source": [
    "## 3. List Available Tables"
   ]
  },
  {
   "cell_type": "code",
   "execution_count": 3,
   "id": "ed5aa03a",
   "metadata": {},
   "outputs": [
    {
     "name": "stdout",
     "output_type": "stream",
     "text": [
      "Available tables in the database:\n",
      "['artist', 'album', 'employee', 'customer', 'invoice', 'invoice_line', 'track', 'playlist', 'playlist_track', 'genre', 'media_type']\n"
     ]
    }
   ],
   "source": [
    "# Query to get all table names\n",
    "query = \"\"\"\n",
    "SELECT table_name \n",
    "FROM information_schema.tables \n",
    "WHERE table_schema = 'public'\n",
    "\"\"\"\n",
    "\n",
    "tables = pd.read_sql(query, engine)\n",
    "print(\"Available tables in the database:\")\n",
    "print(tables['table_name'].tolist())"
   ]
  }
 ],
 "metadata": {
  "kernelspec": {
   "display_name": "myenv",
   "language": "python",
   "name": "python3"
  },
  "language_info": {
   "codemirror_mode": {
    "name": "ipython",
    "version": 3
   },
   "file_extension": ".py",
   "mimetype": "text/x-python",
   "name": "python",
   "nbconvert_exporter": "python",
   "pygments_lexer": "ipython3",
   "version": "3.13.5"
  }
 },
 "nbformat": 4,
 "nbformat_minor": 5
}
