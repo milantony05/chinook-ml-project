{
 "cells": [
  {
   "cell_type": "markdown",
   "metadata": {},
   "source": [
    "# Train Model\n",
    "\n",
    "Train a classification model using scikit-learn to predict high-spending customers"
   ]
  },
  {
   "cell_type": "markdown",
   "metadata": {},
   "source": [
    "## 1. Setup and Imports"
   ]
  },
  {
   "cell_type": "code",
   "execution_count": 1,
   "metadata": {},
   "outputs": [],
   "source": [
    "import pandas as pd\n",
    "import numpy as np\n",
    "import matplotlib.pyplot as plt\n",
    "import seaborn as sns\n",
    "from sklearn.model_selection import train_test_split, cross_val_score\n",
    "from sklearn.ensemble import RandomForestClassifier\n",
    "from sklearn.linear_model import LogisticRegression\n",
    "from sklearn.svm import SVC\n",
    "from sklearn.metrics import accuracy_score, classification_report, confusion_matrix\n",
    "from sklearn.preprocessing import StandardScaler\n",
    "import joblib"
   ]
  },
  {
   "cell_type": "markdown",
   "metadata": {},
   "source": [
    "## 2. Load Preprocessed Data"
   ]
  },
  {
   "cell_type": "code",
   "execution_count": 2,
   "metadata": {},
   "outputs": [
    {
     "name": "stdout",
     "output_type": "stream",
     "text": [
      "Loaded pre-split train/test data\n",
      "Train shape: (47, 12)\n",
      "Test shape: (12, 12)\n",
      "\n",
      "Dataset Overview:\n",
      "<class 'pandas.core.frame.DataFrame'>\n",
      "RangeIndex: 59 entries, 0 to 58\n",
      "Data columns (total 12 columns):\n",
      " #   Column             Non-Null Count  Dtype  \n",
      "---  ------             --------------  -----  \n",
      " 0   total_orders       59 non-null     int64  \n",
      " 1   total_spent        59 non-null     float64\n",
      " 2   avg_order_value    59 non-null     float64\n",
      " 3   orders_per_dollar  59 non-null     float64\n",
      " 4   high_avg_order     59 non-null     int64  \n",
      " 5   country_Brazil     59 non-null     bool   \n",
      " 6   country_Canada     59 non-null     bool   \n",
      " 7   country_France     59 non-null     bool   \n",
      " 8   country_Germany    59 non-null     bool   \n",
      " 9   country_Other      59 non-null     bool   \n",
      " 10  country_USA        59 non-null     bool   \n",
      " 11  target             59 non-null     int64  \n",
      "dtypes: bool(6), float64(3), int64(3)\n",
      "memory usage: 3.2 KB\n",
      "None\n",
      "\n",
      "Target variable distribution:\n",
      "target\n",
      "0    45\n",
      "1    14\n",
      "Name: count, dtype: int64\n"
     ]
    }
   ],
   "source": [
    "train_data = pd.read_csv('train_data.csv')\n",
    "test_data = pd.read_csv('test_data.csv')\n",
    "print(\"Loaded pre-split train/test data\")\n",
    "print(f\"Train shape: {train_data.shape}\")\n",
    "print(f\"Test shape: {test_data.shape}\")\n",
    "    \n",
    "# Combine for feature preparation\n",
    "data = pd.concat([train_data, test_data], ignore_index=True)\n",
    "\n",
    "# Display basic info\n",
    "print(\"\\nDataset Overview:\")\n",
    "print(data.info())\n",
    "print(\"\\nTarget variable distribution:\")\n",
    "print(data['target'].value_counts())"
   ]
  },
  {
   "cell_type": "markdown",
   "metadata": {},
   "source": [
    "## 3. Prepare Features and Target\n",
    "\n",
    "Separate features (X) and target variable (y)."
   ]
  },
  {
   "cell_type": "code",
   "execution_count": 3,
   "metadata": {},
   "outputs": [
    {
     "name": "stdout",
     "output_type": "stream",
     "text": [
      "Feature columns:\n",
      "  1. total_orders\n",
      "  2. total_spent\n",
      "  3. avg_order_value\n",
      "  4. orders_per_dollar\n",
      "  5. high_avg_order\n",
      "  6. country_Brazil\n",
      "  7. country_Canada\n",
      "  8. country_France\n",
      "  9. country_Germany\n",
      "  10. country_Other\n",
      "  11. country_USA\n",
      "\n",
      "Feature matrix shape: (59, 11)\n",
      "Target vector shape: (59,)\n",
      "\n",
      "Class distribution:\n",
      "  High spenders: 14 (23.73%)\n",
      "  Regular spenders: 45 (76.27%)\n"
     ]
    }
   ],
   "source": [
    "# Define target variable (is_high_spender)\n",
    "target_column = 'target'\n",
    "\n",
    "# Define feature columns (exclude target and ID columns)\n",
    "id_columns = ['customer_id', 'invoice_id']\n",
    "feature_columns = [col for col in data.columns \n",
    "                  if col != target_column and col not in id_columns]\n",
    "\n",
    "print(\"Feature columns:\")\n",
    "for i, col in enumerate(feature_columns, 1):\n",
    "    print(f\"  {i}. {col}\")\n",
    "\n",
    "# Prepare X and y\n",
    "X = data[feature_columns]\n",
    "y = data[target_column]\n",
    "\n",
    "print(f\"\\nFeature matrix shape: {X.shape}\")\n",
    "print(f\"Target vector shape: {y.shape}\")\n",
    "print(f\"\\nClass distribution:\")\n",
    "print(f\"  High spenders: {y.sum()} ({y.mean():.2%})\")\n",
    "print(f\"  Regular spenders: {len(y) - y.sum()} ({(1-y.mean()):.2%})\")"
   ]
  },
  {
   "cell_type": "markdown",
   "metadata": {},
   "source": [
    "## 4. Train/Test Split\n",
    "\n",
    "Split the data into training and testing sets."
   ]
  },
  {
   "cell_type": "code",
   "execution_count": 4,
   "metadata": {},
   "outputs": [
    {
     "name": "stdout",
     "output_type": "stream",
     "text": [
      "Data split completed!\n",
      "Training set: 47 samples\n",
      "Test set: 12 samples\n",
      "\n",
      "Training set class distribution:\n",
      "  High spenders: 11 (23.40%)\n",
      "  Regular spenders: 36 (76.60%)\n",
      "\n",
      "Features scaled using StandardScaler\n"
     ]
    }
   ],
   "source": [
    "# Split the data\n",
    "X_train, X_test, y_train, y_test = train_test_split(\n",
    "    X, y, \n",
    "    test_size=0.2, \n",
    "    random_state=42,\n",
    "    stratify=y  # Ensure balanced class distribution\n",
    ")\n",
    "\n",
    "print(\"Data split completed!\")\n",
    "print(f\"Training set: {X_train.shape[0]} samples\")\n",
    "print(f\"Test set: {X_test.shape[0]} samples\")\n",
    "print(f\"\\nTraining set class distribution:\")\n",
    "print(f\"  High spenders: {y_train.sum()} ({y_train.mean():.2%})\")\n",
    "print(f\"  Regular spenders: {len(y_train) - y_train.sum()} ({(1-y_train.mean()):.2%})\")\n",
    "\n",
    "# Scale features if needed\n",
    "scaler = StandardScaler()\n",
    "X_train_scaled = scaler.fit_transform(X_train)\n",
    "X_test_scaled = scaler.transform(X_test)\n",
    "\n",
    "print(\"\\nFeatures scaled using StandardScaler\")"
   ]
  },
  {
   "cell_type": "markdown",
   "metadata": {},
   "source": [
    "## 5. Train Multiple Models\n",
    "\n",
    "Train different classification models and compare their performance."
   ]
  },
  {
   "cell_type": "code",
   "execution_count": 5,
   "metadata": {},
   "outputs": [
    {
     "name": "stdout",
     "output_type": "stream",
     "text": [
      "Training models...\n",
      "\n",
      "Random Forest - Accuracy: 1.0000, CV Score: 0.9778 (+/- 0.0889)\n",
      "Logistic Regression - Accuracy: 1.0000, CV Score: 0.9133 (+/- 0.1653)\n",
      "Support Vector Machine - Accuracy: 1.0000, CV Score: 0.9111 (+/- 0.1663)\n",
      "\n",
      "All models trained successfully!\n"
     ]
    }
   ],
   "source": [
    "# Define models to train\n",
    "models = {\n",
    "    'Random Forest': RandomForestClassifier(n_estimators=100, random_state=42),\n",
    "    'Logistic Regression': LogisticRegression(random_state=42),\n",
    "    'Support Vector Machine': SVC(random_state=42, probability=True)\n",
    "}\n",
    "\n",
    "# Dictionary to store trained models and results\n",
    "trained_models = {}\n",
    "results = {}\n",
    "\n",
    "print(\"Training models...\\n\")\n",
    "\n",
    "for name, model in models.items():\n",
    "    \n",
    "    # Use scaled data for Logistic Regression and SVM\n",
    "    if name in ['Logistic Regression', 'Support Vector Machine']:\n",
    "        X_train_use = X_train_scaled\n",
    "        X_test_use = X_test_scaled\n",
    "    else:\n",
    "        X_train_use = X_train\n",
    "        X_test_use = X_test\n",
    "    \n",
    "    # Train model\n",
    "    model.fit(X_train_use, y_train)\n",
    "    \n",
    "    # Make predictions\n",
    "    y_pred = model.predict(X_test_use)\n",
    "    \n",
    "    # Calculate accuracy\n",
    "    accuracy = accuracy_score(y_test, y_pred)\n",
    "    \n",
    "    # Cross-validation score\n",
    "    cv_scores = cross_val_score(model, X_train_use, y_train, cv=5)\n",
    "    \n",
    "    # Store results\n",
    "    trained_models[name] = model\n",
    "    results[name] = {\n",
    "        'accuracy': accuracy,\n",
    "        'cv_mean': cv_scores.mean(),\n",
    "        'cv_std': cv_scores.std(),\n",
    "        'predictions': y_pred\n",
    "    }\n",
    "    \n",
    "    print(f\"{name} - Accuracy: {accuracy:.4f}, CV Score: {cv_scores.mean():.4f} (+/- {cv_scores.std()*2:.4f})\")\n",
    "\n",
    "print(\"\\nAll models trained successfully!\")"
   ]
  },
  {
   "cell_type": "markdown",
   "metadata": {},
   "source": [
    "## 6. Model Evaluation and Comparison"
   ]
  },
  {
   "cell_type": "code",
   "execution_count": 6,
   "metadata": {},
   "outputs": [
    {
     "name": "stdout",
     "output_type": "stream",
     "text": [
      "Model Performance Comparison:\n",
      "                 Model  Test Accuracy  CV Mean   CV Std\n",
      "         Random Forest            1.0 0.977778 0.044444\n",
      "   Logistic Regression            1.0 0.913333 0.082671\n",
      "Support Vector Machine            1.0 0.911111 0.083148\n",
      "\n",
      "Best performing model: Random Forest\n",
      "   Test Accuracy: 1.0000\n"
     ]
    }
   ],
   "source": [
    "# Create results DataFrame\n",
    "results_df = pd.DataFrame({\n",
    "    'Model': list(results.keys()),\n",
    "    'Test Accuracy': [results[name]['accuracy'] for name in results.keys()],\n",
    "    'CV Mean': [results[name]['cv_mean'] for name in results.keys()],\n",
    "    'CV Std': [results[name]['cv_std'] for name in results.keys()]\n",
    "})\n",
    "\n",
    "# Sort by test accuracy\n",
    "results_df = results_df.sort_values('Test Accuracy', ascending=False)\n",
    "\n",
    "print(\"Model Performance Comparison:\")\n",
    "print(results_df.to_string(index=False))\n",
    "\n",
    "# Find best model\n",
    "best_model_name = results_df.iloc[0]['Model']\n",
    "best_model = trained_models[best_model_name]\n",
    "\n",
    "print(f\"\\nBest performing model: {best_model_name}\")\n",
    "print(f\"   Test Accuracy: {results_df.iloc[0]['Test Accuracy']:.4f}\")"
   ]
  },
  {
   "cell_type": "markdown",
   "metadata": {},
   "source": [
    "## 7. Detailed Evaluation of Best Model"
   ]
  },
  {
   "cell_type": "code",
   "execution_count": 7,
   "metadata": {},
   "outputs": [
    {
     "name": "stdout",
     "output_type": "stream",
     "text": [
      "Classification Report for Random Forest:\n",
      "              precision    recall  f1-score   support\n",
      "\n",
      "           0       1.00      1.00      1.00         9\n",
      "           1       1.00      1.00      1.00         3\n",
      "\n",
      "    accuracy                           1.00        12\n",
      "   macro avg       1.00      1.00      1.00        12\n",
      "weighted avg       1.00      1.00      1.00        12\n",
      "\n",
      "\n",
      "Confusion Matrix:\n",
      "[[9 0]\n",
      " [0 3]]\n"
     ]
    },
    {
     "data": {
      "image/png": "[encoded data removed]",
      "text/plain": [
       "<Figure size 640x480 with 2 Axes>"
      ]
     },
     "metadata": {},
     "output_type": "display_data"
    },
    {
     "name": "stdout",
     "output_type": "stream",
     "text": [
      "\n",
      "Top 10 Most Important Features (Random Forest):\n",
      "          feature  importance\n",
      "orders_per_dollar    0.306245\n",
      "      total_spent    0.294547\n",
      "  avg_order_value    0.290614\n",
      "     total_orders    0.039666\n",
      "   high_avg_order    0.035628\n",
      "    country_Other    0.013880\n",
      "   country_Canada    0.007346\n",
      "      country_USA    0.005159\n",
      "  country_Germany    0.004010\n",
      "   country_France    0.002138\n"
     ]
    },
    {
     "data": {
      "image/png": "[encoded data removed]",
      "text/plain": [
       "<Figure size 1000x600 with 1 Axes>"
      ]
     },
     "metadata": {},
     "output_type": "display_data"
    }
   ],
   "source": [
    "# Get predictions from best model\n",
    "best_predictions = results[best_model_name]['predictions']\n",
    "# Classification report\n",
    "print(f\"Classification Report for {best_model_name}:\")\n",
    "print(classification_report(y_test, best_predictions))\n",
    "\n",
    "# Confusion matrix\n",
    "cm = confusion_matrix(y_test, best_predictions)\n",
    "print(f\"\\nConfusion Matrix:\")\n",
    "print(cm)\n",
    "\n",
    "# Visualize confusion matrix\n",
    "sns.heatmap(cm, annot=True, fmt='d', cmap='Blues', \n",
    "            xticklabels=['Regular', 'High Spender'], \n",
    "            yticklabels=['Regular', 'High Spender'])\n",
    "plt.title(f'Confusion Matrix - {best_model_name}')\n",
    "plt.ylabel('True Label')\n",
    "plt.xlabel('Predicted Label')\n",
    "plt.show()\n",
    "\n",
    "# Feature importance (if available)\n",
    "if hasattr(best_model, 'feature_importances_'):\n",
    "    feature_importance = pd.DataFrame({\n",
    "        'feature': feature_columns,\n",
    "        'importance': best_model.feature_importances_\n",
    "    }).sort_values('importance', ascending=False)\n",
    "    \n",
    "    print(f\"\\nTop 10 Most Important Features ({best_model_name}):\")\n",
    "    print(feature_importance.head(10).to_string(index=False))\n",
    "    \n",
    "    # Plot feature importance\n",
    "    plt.figure(figsize=(10, 6))\n",
    "    sns.barplot(data=feature_importance.head(10), x='importance', y='feature')\n",
    "    plt.title(f'Top 10 Feature Importance - {best_model_name}')\n",
    "    plt.xlabel('Importance')\n",
    "    plt.tight_layout()\n",
    "    plt.show()"
   ]
  },
  {
   "cell_type": "markdown",
   "metadata": {},
   "source": [
    "## 8. Save Best Model"
   ]
  },
  {
   "cell_type": "code",
   "execution_count": 8,
   "metadata": {},
   "outputs": [
    {
     "name": "stdout",
     "output_type": "stream",
     "text": [
      "Best model saved to C:/Users/milan/Desktop/chinook/models/best_model_random_forest.pkl\n",
      "Feature names saved to C:/Users/milan/Desktop/chinook/models/feature_names.pkl\n",
      "Results summary saved to C:/Users/milan/Desktop/chinook/models/model_results.csv\n"
     ]
    }
   ],
   "source": [
    "# Create models directory\n",
    "import os\n",
    "os.makedirs('C:/Users/milan/Desktop/chinook/models', exist_ok=True)\n",
    "\n",
    "# Save best model\n",
    "model_filename = f'C:/Users/milan/Desktop/chinook/models/best_model_{best_model_name.lower().replace(\" \", \"_\")}.pkl'\n",
    "joblib.dump(best_model, model_filename)\n",
    "\n",
    "# Save feature names\n",
    "feature_names_filename = 'C:/Users/milan/Desktop/chinook/models/feature_names.pkl'\n",
    "joblib.dump(feature_columns, feature_names_filename)\n",
    "\n",
    "print(f\"Best model saved to {model_filename}\")\n",
    "print(f\"Feature names saved to {feature_names_filename}\")\n",
    "\n",
    "# Save results summary\n",
    "results_filename = 'C:/Users/milan/Desktop/chinook/models/model_results.csv'\n",
    "results_df.to_csv(results_filename, index=False)\n",
    "print(f\"Results summary saved to {results_filename}\")"
   ]
  },
  {
   "cell_type": "markdown",
   "metadata": {},
   "source": [
    "## 10. Summary"
   ]
  },
  {
   "cell_type": "code",
   "execution_count": 9,
   "metadata": {},
   "outputs": [
    {
     "name": "stdout",
     "output_type": "stream",
     "text": [
      "MODEL TRAINING COMPLETE\n",
      "Dataset: 59 samples, 11 features\n",
      "Best Model: Random Forest\n",
      "Best Accuracy: 1.0000\n",
      "Model saved to: C:/Users/milan/Desktop/chinook/models/best_model_random_forest.pkl\n"
     ]
    }
   ],
   "source": [
    "print(\"MODEL TRAINING COMPLETE\")\n",
    "print(f\"Dataset: {X.shape[0]} samples, {X.shape[1]} features\")\n",
    "print(f\"Best Model: {best_model_name}\")\n",
    "print(f\"Best Accuracy: {results_df.iloc[0]['Test Accuracy']:.4f}\")\n",
    "print(f\"Model saved to: {model_filename}\")"
   ]
  }
 ],
 "metadata": {
  "kernelspec": {
   "display_name": "myenv",
   "language": "python",
   "name": "python3"
  },
  "language_info": {
   "codemirror_mode": {
    "name": "ipython",
    "version": 3
   },
   "file_extension": ".py",
   "mimetype": "text/x-python",
   "name": "python",
   "nbconvert_exporter": "python",
   "pygments_lexer": "ipython3",
   "version": "3.13.5"
  }
 },
 "nbformat": 4,
 "nbformat_minor": 4
}
