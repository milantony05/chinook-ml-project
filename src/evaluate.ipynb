{
 "cells": [
  {
   "cell_type": "markdown",
   "id": "5949b272",
   "metadata": {},
   "source": [
    "# Model Evaluation\n",
    "\n",
    "Loads the pre-processed Chinook data, trains multiple models, evaluates them, and logs every run to MLflow (parameters, metrics, artifacts, and the serialized models)"
   ]
  },
  {
   "cell_type": "markdown",
   "id": "3077d3bc",
   "metadata": {},
   "source": [
    "## 1. Setup & Imports"
   ]
  },
  {
   "cell_type": "code",
   "execution_count": 1,
   "id": "dafd9b46",
   "metadata": {},
   "outputs": [
    {
     "name": "stdout",
     "output_type": "stream",
     "text": [
      "Note: you may need to restart the kernel to use updated packages.\n"
     ]
    }
   ],
   "source": [
    "%pip install -q mlflow scikit-learn pandas matplotlib seaborn joblib\n",
    "\n",
    "import mlflow, mlflow.sklearn\n",
    "import pandas as pd\n",
    "import numpy as np\n",
    "import matplotlib.pyplot as plt\n",
    "import seaborn as sns\n",
    "from sklearn.ensemble import RandomForestClassifier\n",
    "from sklearn.linear_model import LogisticRegression\n",
    "from sklearn.svm import SVC\n",
    "from sklearn.metrics import accuracy_score, confusion_matrix, ConfusionMatrixDisplay, classification_report\n",
    "import joblib, os, json"
   ]
  },
  {
   "cell_type": "markdown",
   "id": "c697e5d8",
   "metadata": {},
   "source": [
    "## 2. Set MLflow Experiment"
   ]
  },
  {
   "cell_type": "code",
   "execution_count": 2,
   "id": "ae5e11d6",
   "metadata": {},
   "outputs": [
    {
     "name": "stderr",
     "output_type": "stream",
     "text": [
      "2025/07/16 12:02:53 INFO mlflow.tracking.fluent: Experiment with name 'Chinook-High-Spender' does not exist. Creating a new experiment.\n"
     ]
    },
    {
     "name": "stdout",
     "output_type": "stream",
     "text": [
      "Active MLflow experiment: Chinook-High-Spender\n"
     ]
    }
   ],
   "source": [
    "experiment_name = \"Chinook-High-Spender\"\n",
    "mlflow.set_experiment(experiment_name)\n",
    "# Turn on autologging for scikit-learn\n",
    "mlflow.sklearn.autolog(log_models=True)\n",
    "print(f\"Active MLflow experiment: {experiment_name}\")"
   ]
  },
  {
   "cell_type": "markdown",
   "id": "4cef3781",
   "metadata": {},
   "source": [
    "## 3. Load Training & Test Data"
   ]
  },
  {
   "cell_type": "code",
   "execution_count": 3,
   "id": "ab189cd4",
   "metadata": {},
   "outputs": [
    {
     "name": "stdout",
     "output_type": "stream",
     "text": [
      "Train shape: (47, 12) Test shape : (12, 12)\n"
     ]
    }
   ],
   "source": [
    "train_path = 'C:/Users/milan/Desktop/chinook/train_data.csv'\n",
    "test_path = 'C:/Users/milan/Desktop/chinook/test_data.csv'\n",
    "\n",
    "train_df = pd.read_csv(train_path)\n",
    "test_df = pd.read_csv(test_path)\n",
    "\n",
    "print(f'Train shape: {train_df.shape} \\\n",
    "Test shape : {test_df.shape}')\n",
    "\n",
    "X_train = train_df.drop(columns=['target'])\n",
    "y_train = train_df['target']\n",
    "X_test  = test_df.drop(columns=['target'])\n",
    "y_test  = test_df['target']"
   ]
  },
  {
   "cell_type": "markdown",
   "id": "63c24310",
   "metadata": {},
   "source": [
    "## 4. Define Candidate Models"
   ]
  },
  {
   "cell_type": "code",
   "execution_count": 4,
   "id": "e11ab607",
   "metadata": {},
   "outputs": [],
   "source": [
    "models = {\n",
    "    'RandomForest': RandomForestClassifier(n_estimators=200, random_state=42),\n",
    "    'LogisticRegression': LogisticRegression(max_iter=500, random_state=42),\n",
    "    'SVM': SVC(kernel='rbf', probability=True, random_state=42)\n",
    "}"
   ]
  },
  {
   "cell_type": "markdown",
   "id": "cc4a33db",
   "metadata": {},
   "source": [
    "## 5. Train, Evaluate & Log with MLflow"
   ]
  },
  {
   "cell_type": "code",
   "execution_count": 5,
   "id": "634339db",
   "metadata": {},
   "outputs": [
    {
     "name": "stderr",
     "output_type": "stream",
     "text": [
      "2025/07/16 12:02:54 WARNING mlflow.utils.autologging_utils: MLflow autologging encountered a warning: \"c:\\Users\\milan\\Desktop\\chinook\\myenv\\Lib\\site-packages\\mlflow\\types\\utils.py:452: UserWarning: Hint: Inferred schema contains integer column(s). Integer columns in Python cannot represent missing values. If your input data contains missing values at inference time, it will be encoded as floats and will cause a schema enforcement error. The best way to avoid this problem is to infer the model schema based on a realistic data sample (training dataset) that includes missing values. Alternatively, you can declare integer columns as doubles (float64) whenever these columns may have missing values. See `Handling Integers With Missing Values <https://www.mlflow.org/docs/latest/models.html#handling-integers-with-missing-values>`_ for more details.\"\n",
      "2025/07/16 12:02:55 WARNING mlflow.utils.autologging_utils: MLflow autologging encountered a warning: \"c:\\Users\\milan\\Desktop\\chinook\\myenv\\Lib\\site-packages\\mlflow\\types\\utils.py:452: UserWarning: Hint: Inferred schema contains integer column(s). Integer columns in Python cannot represent missing values. If your input data contains missing values at inference time, it will be encoded as floats and will cause a schema enforcement error. The best way to avoid this problem is to infer the model schema based on a realistic data sample (training dataset) that includes missing values. Alternatively, you can declare integer columns as doubles (float64) whenever these columns may have missing values. See `Handling Integers With Missing Values <https://www.mlflow.org/docs/latest/models.html#handling-integers-with-missing-values>`_ for more details.\"\n",
      "2025/07/16 12:03:01 WARNING mlflow.utils.autologging_utils: MLflow autologging encountered a warning: \"c:\\Users\\milan\\Desktop\\chinook\\myenv\\Lib\\site-packages\\mlflow\\types\\utils.py:452: UserWarning: Hint: Inferred schema contains integer column(s). Integer columns in Python cannot represent missing values. If your input data contains missing values at inference time, it will be encoded as floats and will cause a schema enforcement error. The best way to avoid this problem is to infer the model schema based on a realistic data sample (training dataset) that includes missing values. Alternatively, you can declare integer columns as doubles (float64) whenever these columns may have missing values. See `Handling Integers With Missing Values <https://www.mlflow.org/docs/latest/models.html#handling-integers-with-missing-values>`_ for more details.\"\n",
      "2025/07/16 12:03:02 WARNING mlflow.utils.autologging_utils: MLflow autologging encountered a warning: \"c:\\Users\\milan\\Desktop\\chinook\\myenv\\Lib\\site-packages\\mlflow\\types\\utils.py:452: UserWarning: Hint: Inferred schema contains integer column(s). Integer columns in Python cannot represent missing values. If your input data contains missing values at inference time, it will be encoded as floats and will cause a schema enforcement error. The best way to avoid this problem is to infer the model schema based on a realistic data sample (training dataset) that includes missing values. Alternatively, you can declare integer columns as doubles (float64) whenever these columns may have missing values. See `Handling Integers With Missing Values <https://www.mlflow.org/docs/latest/models.html#handling-integers-with-missing-values>`_ for more details.\"\n",
      "2025/07/16 12:03:02 WARNING mlflow.utils.autologging_utils: MLflow autologging encountered a warning: \"c:\\Users\\milan\\Desktop\\chinook\\myenv\\Lib\\site-packages\\mlflow\\types\\utils.py:452: UserWarning: Hint: Inferred schema contains integer column(s). Integer columns in Python cannot represent missing values. If your input data contains missing values at inference time, it will be encoded as floats and will cause a schema enforcement error. The best way to avoid this problem is to infer the model schema based on a realistic data sample (training dataset) that includes missing values. Alternatively, you can declare integer columns as doubles (float64) whenever these columns may have missing values. See `Handling Integers With Missing Values <https://www.mlflow.org/docs/latest/models.html#handling-integers-with-missing-values>`_ for more details.\"\n",
      "2025/07/16 12:03:07 WARNING mlflow.utils.autologging_utils: MLflow autologging encountered a warning: \"c:\\Users\\milan\\Desktop\\chinook\\myenv\\Lib\\site-packages\\mlflow\\types\\utils.py:452: UserWarning: Hint: Inferred schema contains integer column(s). Integer columns in Python cannot represent missing values. If your input data contains missing values at inference time, it will be encoded as floats and will cause a schema enforcement error. The best way to avoid this problem is to infer the model schema based on a realistic data sample (training dataset) that includes missing values. Alternatively, you can declare integer columns as doubles (float64) whenever these columns may have missing values. See `Handling Integers With Missing Values <https://www.mlflow.org/docs/latest/models.html#handling-integers-with-missing-values>`_ for more details.\"\n",
      "2025/07/16 12:03:07 WARNING mlflow.utils.autologging_utils: MLflow autologging encountered a warning: \"c:\\Users\\milan\\Desktop\\chinook\\myenv\\Lib\\site-packages\\mlflow\\types\\utils.py:452: UserWarning: Hint: Inferred schema contains integer column(s). Integer columns in Python cannot represent missing values. If your input data contains missing values at inference time, it will be encoded as floats and will cause a schema enforcement error. The best way to avoid this problem is to infer the model schema based on a realistic data sample (training dataset) that includes missing values. Alternatively, you can declare integer columns as doubles (float64) whenever these columns may have missing values. See `Handling Integers With Missing Values <https://www.mlflow.org/docs/latest/models.html#handling-integers-with-missing-values>`_ for more details.\"\n",
      "2025/07/16 12:03:07 WARNING mlflow.utils.autologging_utils: MLflow autologging encountered a warning: \"c:\\Users\\milan\\Desktop\\chinook\\myenv\\Lib\\site-packages\\mlflow\\types\\utils.py:452: UserWarning: Hint: Inferred schema contains integer column(s). Integer columns in Python cannot represent missing values. If your input data contains missing values at inference time, it will be encoded as floats and will cause a schema enforcement error. The best way to avoid this problem is to infer the model schema based on a realistic data sample (training dataset) that includes missing values. Alternatively, you can declare integer columns as doubles (float64) whenever these columns may have missing values. See `Handling Integers With Missing Values <https://www.mlflow.org/docs/latest/models.html#handling-integers-with-missing-values>`_ for more details.\"\n",
      "c:\\Users\\milan\\Desktop\\chinook\\myenv\\Lib\\site-packages\\sklearn\\metrics\\_classification.py:1706: UndefinedMetricWarning: Precision is ill-defined and being set to 0.0 in labels with no predicted samples. Use `zero_division` parameter to control this behavior.\n",
      "  _warn_prf(average, modifier, f\"{metric.capitalize()} is\", result.shape[0])\n",
      "2025/07/16 12:03:12 WARNING mlflow.utils.autologging_utils: MLflow autologging encountered a warning: \"c:\\Users\\milan\\Desktop\\chinook\\myenv\\Lib\\site-packages\\mlflow\\types\\utils.py:452: UserWarning: Hint: Inferred schema contains integer column(s). Integer columns in Python cannot represent missing values. If your input data contains missing values at inference time, it will be encoded as floats and will cause a schema enforcement error. The best way to avoid this problem is to infer the model schema based on a realistic data sample (training dataset) that includes missing values. Alternatively, you can declare integer columns as doubles (float64) whenever these columns may have missing values. See `Handling Integers With Missing Values <https://www.mlflow.org/docs/latest/models.html#handling-integers-with-missing-values>`_ for more details.\"\n"
     ]
    },
    {
     "name": "stdout",
     "output_type": "stream",
     "text": [
      "Logged runs:\n",
      "                model  test_accuracy                            run_id\n",
      "0        RandomForest       0.916667  039a8cd57546423aa5e74937f6f5b0bd\n",
      "1  LogisticRegression       1.000000  66aff92db7e0494a8ebd9c731afbee7a\n",
      "2                 SVM       0.750000  12b380ebc15a406b9d44f4c24a65161e\n"
     ]
    }
   ],
   "source": [
    "results = []\n",
    "for name, model in models.items():\n",
    "    with mlflow.start_run(run_name=name):\n",
    "        # ----- Train -----\n",
    "        model.fit(X_train, y_train)\n",
    "\n",
    "        # ----- Predict -----\n",
    "        preds = model.predict(X_test)\n",
    "        acc = accuracy_score(y_test, preds)\n",
    "        mlflow.log_metric('test_accuracy', acc)\n",
    "\n",
    "        # Confusion-matrix plot as artifact\n",
    "        fig, ax = plt.subplots(figsize=(8, 6))  # Create new figure and axes\n",
    "        ConfusionMatrixDisplay.from_predictions(\n",
    "            y_test, \n",
    "            preds,\n",
    "            ax=ax,\n",
    "            cmap='Blues',\n",
    "            display_labels=['Regular', 'High Spender']\n",
    "        )\n",
    "        ax.set_title(f'{name} Confusion Matrix')\n",
    "        plt.tight_layout()\n",
    "        \n",
    "        # Save and log confusion matrix\n",
    "        fig_path = f'{name}_cm.png'\n",
    "        fig.savefig(fig_path, bbox_inches='tight', dpi=300)\n",
    "        plt.close(fig)  # Close figure to free memory\n",
    "        mlflow.log_artifact(fig_path)\n",
    "        os.remove(fig_path)  # Clean up temporary file\n",
    "\n",
    "        # Keep record for summary\n",
    "        results.append({\n",
    "            'model': name, \n",
    "            'test_accuracy': acc, \n",
    "            'run_id': mlflow.active_run().info.run_id\n",
    "        })\n",
    "\n",
    "print(\"Logged runs:\")\n",
    "print(pd.DataFrame(results))"
   ]
  },
  {
   "cell_type": "markdown",
   "id": "88c2c63e",
   "metadata": {},
   "source": [
    "## 7. MLflow UI"
   ]
  },
  {
   "cell_type": "markdown",
   "id": "af585d4c",
   "metadata": {},
   "source": [
    "\n",
    "To open the MLflow tracking UI locally, run the following command in your terminal from the project root:\n",
    "\n",
    "```bash\n",
    "mlflow ui --port 5000\n",
    "```\n",
    "\n",
    "Then visit [http://127.0.0.1:5000](http://127.0.0.1:5000) in your browser to explore runs, metrics, and artifacts.\n"
   ]
  }
 ],
 "metadata": {
  "kernelspec": {
   "display_name": "myenv",
   "language": "python",
   "name": "python3"
  },
  "language_info": {
   "codemirror_mode": {
    "name": "ipython",
    "version": 3
   },
   "file_extension": ".py",
   "mimetype": "text/x-python",
   "name": "python",
   "nbconvert_exporter": "python",
   "pygments_lexer": "ipython3",
   "version": "3.13.5"
  }
 },
 "nbformat": 4,
 "nbformat_minor": 5
}
